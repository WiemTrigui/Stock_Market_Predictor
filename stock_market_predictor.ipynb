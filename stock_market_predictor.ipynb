{
 "cells": [
  {
   "cell_type": "code",
   "execution_count": 1,
   "metadata": {
    "id": "F0WyaZmFaEaI"
   },
   "outputs": [],
   "source": [
    "import pandas as pd\n",
    "import matplotlib.pyplot as plt\n",
    "import matplotlib\n",
    "import datetime, random\n",
    "import numpy as np; np.random.seed(0)\n",
    "import warnings\n",
    "import itertools, os\n",
    "from zipfile import ZipFile\n",
    "from urllib.request import urlopen\n",
    "from io import BytesIO\n",
    "warnings.filterwarnings('ignore')\n",
    "\n"
   ]
  },
  {
   "cell_type": "markdown",
   "metadata": {
    "id": "fd99k6rYbJ7z"
   },
   "source": [
    "**Loading data** \n"
   ]
  },
  {
   "cell_type": "code",
   "execution_count": 2,
   "metadata": {
    "id": "9VJdUv14bGQO"
   },
   "outputs": [],
   "source": [
    "# Load locally\n",
    "local = False\n",
    "\n",
    "if not local:\n",
    "    # this will download a copy from GitHub and save it locally\n",
    "    URL = 'https://github.com/amunategui/amunategui.github.io/raw/master/all_stocks_5yr.zip'\n",
    "    z = urlopen(URL)\n",
    "    myzip = ZipFile(BytesIO(z.read())).extract('all_stocks_5yr.csv')\n",
    "    stocks_df = pd.read_csv(myzip)\n",
    "    \n",
    "else:\n",
    "    # read locally saved version\n",
    "    stocks_df = pd.read_csv('all_stocks_5yr.csv')"
   ]
  },
  {
   "cell_type": "code",
   "execution_count": 3,
   "metadata": {
    "colab": {
     "base_uri": "https://localhost:8080/",
     "height": 202
    },
    "id": "6BVwBHNtaPgk",
    "outputId": "4bb8489d-4f55-4609-e9fd-3358fe2099f6"
   },
   "outputs": [
    {
     "data": {
      "text/html": [
       "<div>\n",
       "<style scoped>\n",
       "    .dataframe tbody tr th:only-of-type {\n",
       "        vertical-align: middle;\n",
       "    }\n",
       "\n",
       "    .dataframe tbody tr th {\n",
       "        vertical-align: top;\n",
       "    }\n",
       "\n",
       "    .dataframe thead th {\n",
       "        text-align: right;\n",
       "    }\n",
       "</style>\n",
       "<table border=\"1\" class=\"dataframe\">\n",
       "  <thead>\n",
       "    <tr style=\"text-align: right;\">\n",
       "      <th></th>\n",
       "      <th>date</th>\n",
       "      <th>open</th>\n",
       "      <th>high</th>\n",
       "      <th>low</th>\n",
       "      <th>close</th>\n",
       "      <th>volume</th>\n",
       "      <th>Name</th>\n",
       "    </tr>\n",
       "  </thead>\n",
       "  <tbody>\n",
       "    <tr>\n",
       "      <th>0</th>\n",
       "      <td>2013-02-08</td>\n",
       "      <td>15.07</td>\n",
       "      <td>15.12</td>\n",
       "      <td>14.63</td>\n",
       "      <td>14.75</td>\n",
       "      <td>8407500</td>\n",
       "      <td>AAL</td>\n",
       "    </tr>\n",
       "    <tr>\n",
       "      <th>1</th>\n",
       "      <td>2013-02-11</td>\n",
       "      <td>14.89</td>\n",
       "      <td>15.01</td>\n",
       "      <td>14.26</td>\n",
       "      <td>14.46</td>\n",
       "      <td>8882000</td>\n",
       "      <td>AAL</td>\n",
       "    </tr>\n",
       "    <tr>\n",
       "      <th>2</th>\n",
       "      <td>2013-02-12</td>\n",
       "      <td>14.45</td>\n",
       "      <td>14.51</td>\n",
       "      <td>14.10</td>\n",
       "      <td>14.27</td>\n",
       "      <td>8126000</td>\n",
       "      <td>AAL</td>\n",
       "    </tr>\n",
       "    <tr>\n",
       "      <th>3</th>\n",
       "      <td>2013-02-13</td>\n",
       "      <td>14.30</td>\n",
       "      <td>14.94</td>\n",
       "      <td>14.25</td>\n",
       "      <td>14.66</td>\n",
       "      <td>10259500</td>\n",
       "      <td>AAL</td>\n",
       "    </tr>\n",
       "    <tr>\n",
       "      <th>4</th>\n",
       "      <td>2013-02-14</td>\n",
       "      <td>14.94</td>\n",
       "      <td>14.96</td>\n",
       "      <td>13.16</td>\n",
       "      <td>13.99</td>\n",
       "      <td>31879900</td>\n",
       "      <td>AAL</td>\n",
       "    </tr>\n",
       "  </tbody>\n",
       "</table>\n",
       "</div>"
      ],
      "text/plain": [
       "         date   open   high    low  close    volume Name\n",
       "0  2013-02-08  15.07  15.12  14.63  14.75   8407500  AAL\n",
       "1  2013-02-11  14.89  15.01  14.26  14.46   8882000  AAL\n",
       "2  2013-02-12  14.45  14.51  14.10  14.27   8126000  AAL\n",
       "3  2013-02-13  14.30  14.94  14.25  14.66  10259500  AAL\n",
       "4  2013-02-14  14.94  14.96  13.16  13.99  31879900  AAL"
      ]
     },
     "execution_count": 3,
     "metadata": {},
     "output_type": "execute_result"
    }
   ],
   "source": [
    "stocks_df.head()"
   ]
  },
  {
   "cell_type": "code",
   "execution_count": 4,
   "metadata": {
    "colab": {
     "base_uri": "https://localhost:8080/"
    },
    "id": "v7AV4EQEajaD",
    "outputId": "5b64777d-39f0-4d45-cef5-b9d2728afc72"
   },
   "outputs": [
    {
     "data": {
      "text/plain": [
       "(619040, 7)"
      ]
     },
     "execution_count": 4,
     "metadata": {},
     "output_type": "execute_result"
    }
   ],
   "source": [
    "stocks_df.shape"
   ]
  },
  {
   "cell_type": "markdown",
   "metadata": {
    "id": "Z2yv-MvIa-w5"
   },
   "source": [
    "**Preparing data**"
   ]
  },
  {
   "cell_type": "code",
   "execution_count": 5,
   "metadata": {
    "colab": {
     "base_uri": "https://localhost:8080/"
    },
    "id": "hKhdjipya4vK",
    "outputId": "3ee888de-f636-41e8-802a-24cb694121c9"
   },
   "outputs": [
    {
     "name": "stdout",
     "output_type": "stream",
     "text": [
      "['MAT', 'PNW', 'LUV', 'JNJ', 'REGN', 'JNPR', 'CERN', 'FMC', 'MCD', 'GLW']\n"
     ]
    }
   ],
   "source": [
    "stock_symbols=list(set(stocks_df[\"Name\"]))\n",
    "print(stock_symbols[0:10])\n"
   ]
  },
  {
   "cell_type": "code",
   "execution_count": 6,
   "metadata": {
    "id": "FCq--tVOb_l5"
   },
   "outputs": [],
   "source": [
    "# build dataset  \n",
    "X = []\n",
    "y = []\n",
    "symbols = []\n",
    "prediction_dates = []\n",
    "last_market_dates = []\n",
    "\n",
    "# rolling predictions\n",
    "rolling_period = 5\n",
    "predict_out_period = 5\n",
    "\n",
    "for stock in stock_symbols:\n",
    "    stock_data = stocks_df[stocks_df['Name']==stock].copy()\n",
    "    \n",
    "    for per in range(rolling_period, len(stock_data)-predict_out_period):\n",
    "        X_tmp = []\n",
    "        y_tmp = 0\n",
    "        for rollper in range(per-rolling_period,per):\n",
    "            # build the 'features'\n",
    "            #get the log to normalize the prices\n",
    "            X_tmp += [np.log(stock_data['close'].values[rollper])]\n",
    "\n",
    "        X.append(np.array(X_tmp))\n",
    "        # build 'labels'\n",
    "        y.append(np.log(stock_data['close'].values[per + predict_out_period]))\n",
    "        prediction_dates.append(stock_data['date'].values[per + predict_out_period])\n",
    "        last_market_dates.append(stock_data['date'].values[per])\n",
    "        symbols.append(stock)\n",
    "\n",
    " \n",
    "\n"
   ]
  },
  {
   "cell_type": "code",
   "execution_count": 7,
   "metadata": {
    "id": "veBrJ60dj9HB"
   },
   "outputs": [],
   "source": [
    "stock_model_ready_df = pd.DataFrame(X)\n",
    "stock_model_ready_df.columns = [str(f) for f in list(stock_model_ready_df)]\n",
    "stock_model_ready_df.head()\n",
    "stock_model_ready_df['outcome'] = y\n",
    "stock_model_ready_df['date'] = prediction_dates\n",
    "stock_model_ready_df['last_market_date'] = last_market_dates\n",
    "stock_model_ready_df['symbol'] = symbols\n",
    "\n",
    "\n",
    "# write a copy to file to use in our web application\n",
    "stock_model_ready_df.to_csv('stock_market_historical_data.csv', index=None)"
   ]
  },
  {
   "cell_type": "code",
   "execution_count": 8,
   "metadata": {
    "colab": {
     "base_uri": "https://localhost:8080/",
     "height": 202
    },
    "id": "flbDBH-lpZ3-",
    "outputId": "8339fb14-64e7-4231-e516-804c101b92a2"
   },
   "outputs": [
    {
     "data": {
      "text/html": [
       "<div>\n",
       "<style scoped>\n",
       "    .dataframe tbody tr th:only-of-type {\n",
       "        vertical-align: middle;\n",
       "    }\n",
       "\n",
       "    .dataframe tbody tr th {\n",
       "        vertical-align: top;\n",
       "    }\n",
       "\n",
       "    .dataframe thead th {\n",
       "        text-align: right;\n",
       "    }\n",
       "</style>\n",
       "<table border=\"1\" class=\"dataframe\">\n",
       "  <thead>\n",
       "    <tr style=\"text-align: right;\">\n",
       "      <th></th>\n",
       "      <th>0</th>\n",
       "      <th>1</th>\n",
       "      <th>2</th>\n",
       "      <th>3</th>\n",
       "      <th>4</th>\n",
       "      <th>outcome</th>\n",
       "      <th>date</th>\n",
       "      <th>last_market_date</th>\n",
       "      <th>symbol</th>\n",
       "    </tr>\n",
       "  </thead>\n",
       "  <tbody>\n",
       "    <tr>\n",
       "      <th>613985</th>\n",
       "      <td>3.575991</td>\n",
       "      <td>3.590715</td>\n",
       "      <td>3.609836</td>\n",
       "      <td>3.616040</td>\n",
       "      <td>3.624074</td>\n",
       "      <td>3.603049</td>\n",
       "      <td>2018-02-01</td>\n",
       "      <td>2018-01-25</td>\n",
       "      <td>FOX</td>\n",
       "    </tr>\n",
       "    <tr>\n",
       "      <th>613986</th>\n",
       "      <td>3.590715</td>\n",
       "      <td>3.609836</td>\n",
       "      <td>3.616040</td>\n",
       "      <td>3.624074</td>\n",
       "      <td>3.630456</td>\n",
       "      <td>3.589611</td>\n",
       "      <td>2018-02-02</td>\n",
       "      <td>2018-01-26</td>\n",
       "      <td>FOX</td>\n",
       "    </tr>\n",
       "    <tr>\n",
       "      <th>613987</th>\n",
       "      <td>3.609836</td>\n",
       "      <td>3.616040</td>\n",
       "      <td>3.624074</td>\n",
       "      <td>3.630456</td>\n",
       "      <td>3.645972</td>\n",
       "      <td>3.571221</td>\n",
       "      <td>2018-02-05</td>\n",
       "      <td>2018-01-29</td>\n",
       "      <td>FOX</td>\n",
       "    </tr>\n",
       "    <tr>\n",
       "      <th>613988</th>\n",
       "      <td>3.616040</td>\n",
       "      <td>3.624074</td>\n",
       "      <td>3.630456</td>\n",
       "      <td>3.645972</td>\n",
       "      <td>3.641264</td>\n",
       "      <td>3.595118</td>\n",
       "      <td>2018-02-06</td>\n",
       "      <td>2018-01-30</td>\n",
       "      <td>FOX</td>\n",
       "    </tr>\n",
       "    <tr>\n",
       "      <th>613989</th>\n",
       "      <td>3.624074</td>\n",
       "      <td>3.630456</td>\n",
       "      <td>3.645972</td>\n",
       "      <td>3.641264</td>\n",
       "      <td>3.634423</td>\n",
       "      <td>3.575151</td>\n",
       "      <td>2018-02-07</td>\n",
       "      <td>2018-01-31</td>\n",
       "      <td>FOX</td>\n",
       "    </tr>\n",
       "  </tbody>\n",
       "</table>\n",
       "</div>"
      ],
      "text/plain": [
       "               0         1         2         3         4   outcome  \\\n",
       "613985  3.575991  3.590715  3.609836  3.616040  3.624074  3.603049   \n",
       "613986  3.590715  3.609836  3.616040  3.624074  3.630456  3.589611   \n",
       "613987  3.609836  3.616040  3.624074  3.630456  3.645972  3.571221   \n",
       "613988  3.616040  3.624074  3.630456  3.645972  3.641264  3.595118   \n",
       "613989  3.624074  3.630456  3.645972  3.641264  3.634423  3.575151   \n",
       "\n",
       "              date last_market_date symbol  \n",
       "613985  2018-02-01       2018-01-25    FOX  \n",
       "613986  2018-02-02       2018-01-26    FOX  \n",
       "613987  2018-02-05       2018-01-29    FOX  \n",
       "613988  2018-02-06       2018-01-30    FOX  \n",
       "613989  2018-02-07       2018-01-31    FOX  "
      ]
     },
     "execution_count": 8,
     "metadata": {},
     "output_type": "execute_result"
    }
   ],
   "source": [
    "stock_model_ready_df.tail()\n"
   ]
  },
  {
   "cell_type": "markdown",
   "metadata": {
    "id": "BOTzLVZYqvle"
   },
   "source": []
  },
  {
   "cell_type": "code",
   "execution_count": 9,
   "metadata": {
    "colab": {
     "base_uri": "https://localhost:8080/",
     "height": 202
    },
    "id": "E0Zdxu1IoktM",
    "outputId": "99741e4b-9168-413b-9b54-66fdffdb4416"
   },
   "outputs": [
    {
     "data": {
      "text/html": [
       "<div>\n",
       "<style scoped>\n",
       "    .dataframe tbody tr th:only-of-type {\n",
       "        vertical-align: middle;\n",
       "    }\n",
       "\n",
       "    .dataframe tbody tr th {\n",
       "        vertical-align: top;\n",
       "    }\n",
       "\n",
       "    .dataframe thead th {\n",
       "        text-align: right;\n",
       "    }\n",
       "</style>\n",
       "<table border=\"1\" class=\"dataframe\">\n",
       "  <thead>\n",
       "    <tr style=\"text-align: right;\">\n",
       "      <th></th>\n",
       "      <th>0</th>\n",
       "      <th>1</th>\n",
       "      <th>2</th>\n",
       "      <th>3</th>\n",
       "      <th>4</th>\n",
       "      <th>outcome</th>\n",
       "      <th>date</th>\n",
       "      <th>last_market_date</th>\n",
       "    </tr>\n",
       "  </thead>\n",
       "  <tbody>\n",
       "    <tr>\n",
       "      <th>0</th>\n",
       "      <td>5.144642</td>\n",
       "      <td>5.123726</td>\n",
       "      <td>5.117814</td>\n",
       "      <td>5.120565</td>\n",
       "      <td>5.122654</td>\n",
       "      <td>-1</td>\n",
       "      <td>2018-02-08</td>\n",
       "      <td>2018-02-01</td>\n",
       "    </tr>\n",
       "    <tr>\n",
       "      <th>1</th>\n",
       "      <td>5.123726</td>\n",
       "      <td>5.117814</td>\n",
       "      <td>5.120565</td>\n",
       "      <td>5.122654</td>\n",
       "      <td>5.078294</td>\n",
       "      <td>-1</td>\n",
       "      <td>2018-02-09</td>\n",
       "      <td>2018-02-02</td>\n",
       "    </tr>\n",
       "    <tr>\n",
       "      <th>2</th>\n",
       "      <td>5.117814</td>\n",
       "      <td>5.120565</td>\n",
       "      <td>5.122654</td>\n",
       "      <td>5.078294</td>\n",
       "      <td>5.052992</td>\n",
       "      <td>-1</td>\n",
       "      <td>2018-02-12</td>\n",
       "      <td>2018-02-05</td>\n",
       "    </tr>\n",
       "    <tr>\n",
       "      <th>3</th>\n",
       "      <td>5.120565</td>\n",
       "      <td>5.122654</td>\n",
       "      <td>5.078294</td>\n",
       "      <td>5.052992</td>\n",
       "      <td>5.093934</td>\n",
       "      <td>-1</td>\n",
       "      <td>2018-02-13</td>\n",
       "      <td>2018-02-06</td>\n",
       "    </tr>\n",
       "    <tr>\n",
       "      <th>4</th>\n",
       "      <td>5.122654</td>\n",
       "      <td>5.078294</td>\n",
       "      <td>5.052992</td>\n",
       "      <td>5.093934</td>\n",
       "      <td>5.072295</td>\n",
       "      <td>-1</td>\n",
       "      <td>2018-02-14</td>\n",
       "      <td>2018-02-07</td>\n",
       "    </tr>\n",
       "  </tbody>\n",
       "</table>\n",
       "</div>"
      ],
      "text/plain": [
       "          0         1         2         3         4  outcome       date  \\\n",
       "0  5.144642  5.123726  5.117814  5.120565  5.122654       -1 2018-02-08   \n",
       "1  5.123726  5.117814  5.120565  5.122654  5.078294       -1 2018-02-09   \n",
       "2  5.117814  5.120565  5.122654  5.078294  5.052992       -1 2018-02-12   \n",
       "3  5.120565  5.122654  5.078294  5.052992  5.093934       -1 2018-02-13   \n",
       "4  5.122654  5.078294  5.052992  5.093934  5.072295       -1 2018-02-14   \n",
       "\n",
       "  last_market_date  \n",
       "0       2018-02-01  \n",
       "1       2018-02-02  \n",
       "2       2018-02-05  \n",
       "3       2018-02-06  \n",
       "4       2018-02-07  "
      ]
     },
     "execution_count": 9,
     "metadata": {},
     "output_type": "execute_result"
    }
   ],
   "source": [
    "# loop the amount of days we don't have an outome\n",
    "stock_data_live = stocks_df[stocks_df['Name']=='AAPL'].copy()\n",
    "no_outcome_id = len(stock_data_live)-predict_out_period\n",
    "future_data = []\n",
    "prediction_dates = []\n",
    "last_market_dates = []\n",
    "\n",
    "# shift everything out into 'no outcome' zone\n",
    "for per in range(no_outcome_id+1, len(stock_data_live)+1): \n",
    "    X_tmp = []\n",
    "    y_tmp = 0\n",
    "    for rollper in range(per-rolling_period,per):\n",
    "        X_tmp += [np.log(stock_data_live['close'].values[rollper])]\n",
    "    \n",
    "    future_data.append(np.array(X_tmp))\n",
    "    last_market_dates.append(stock_data_live['date'].values[rollper])\n",
    "    # create a business day offset for future dates to avoid weekends and holidays \n",
    "    prediction_dates.append(np.busday_offset(np.datetime64(stock_data_live['date'].values[rollper],'D'),predict_out_period, roll='forward'))\n",
    "\n",
    "future_model_ready_df = pd.DataFrame(future_data)\n",
    "future_model_ready_df.columns = [str(f) for f in list(future_model_ready_df)]\n",
    "\n",
    "# outcome here is just a random placeholder, it won't be used\n",
    "future_model_ready_df['outcome'] = -1\n",
    "future_model_ready_df['date'] = prediction_dates\n",
    "future_model_ready_df['last_market_date'] = last_market_dates\n",
    "future_model_ready_df.head()"
   ]
  },
  {
   "cell_type": "markdown",
   "metadata": {
    "id": "UvpRh_ATycPn"
   },
   "source": [
    "**Building the model**"
   ]
  },
  {
   "cell_type": "code",
   "execution_count": 10,
   "metadata": {
    "id": "LfoHdewDybkv"
   },
   "outputs": [],
   "source": [
    "features=[ f for f in stock_model_ready_df.columns if f not in ['outcome']]\n",
    "features_=[f  for f in stock_model_ready_df.columns if f not in ['date', 'last_market_date', 'symbol','outcome']]\n",
    "label = 'outcome'"
   ]
  },
  {
   "cell_type": "code",
   "execution_count": 12,
   "metadata": {},
   "outputs": [
    {
     "name": "stdout",
     "output_type": "stream",
     "text": [
      "Collecting tensorflow\n",
      "  Downloading tensorflow-2.4.1-cp38-cp38-win_amd64.whl (370.7 MB)\n",
      "Collecting gast==0.3.3\n",
      "  Downloading gast-0.3.3-py2.py3-none-any.whl (9.7 kB)\n",
      "Collecting astunparse~=1.6.3\n",
      "  Downloading astunparse-1.6.3-py2.py3-none-any.whl (12 kB)\n",
      "Collecting tensorboard~=2.4\n",
      "  Downloading tensorboard-2.4.1-py3-none-any.whl (10.6 MB)\n",
      "Collecting protobuf>=3.9.2\n",
      "  Downloading protobuf-3.15.0-py2.py3-none-any.whl (173 kB)\n",
      "Requirement already satisfied: h5py~=2.10.0 in c:\\users\\33611\\anaconda3\\lib\\site-packages (from tensorflow) (2.10.0)\n",
      "Collecting absl-py~=0.10\n",
      "  Downloading absl_py-0.11.0-py3-none-any.whl (127 kB)\n",
      "Collecting grpcio~=1.32.0\n",
      "  Downloading grpcio-1.32.0-cp38-cp38-win_amd64.whl (2.6 MB)\n",
      "Requirement already satisfied: numpy~=1.19.2 in c:\\users\\33611\\anaconda3\\lib\\site-packages (from tensorflow) (1.19.2)\n",
      "Collecting tensorflow-estimator<2.5.0,>=2.4.0\n",
      "  Downloading tensorflow_estimator-2.4.0-py2.py3-none-any.whl (462 kB)\n",
      "Collecting google-pasta~=0.2\n",
      "  Downloading google_pasta-0.2.0-py3-none-any.whl (57 kB)\n",
      "Requirement already satisfied: six~=1.15.0 in c:\\users\\33611\\anaconda3\\lib\\site-packages (from tensorflow) (1.15.0)\n",
      "Collecting termcolor~=1.1.0\n",
      "  Downloading termcolor-1.1.0.tar.gz (3.9 kB)\n",
      "Requirement already satisfied: typing-extensions~=3.7.4 in c:\\users\\33611\\anaconda3\\lib\\site-packages (from tensorflow) (3.7.4.3)\n",
      "Collecting opt-einsum~=3.3.0\n",
      "  Downloading opt_einsum-3.3.0-py3-none-any.whl (65 kB)\n",
      "Collecting wrapt~=1.12.1\n",
      "  Downloading wrapt-1.12.1.tar.gz (27 kB)\n",
      "Collecting flatbuffers~=1.12.0\n",
      "  Downloading flatbuffers-1.12-py2.py3-none-any.whl (15 kB)\n",
      "Requirement already satisfied: wheel~=0.35 in c:\\users\\33611\\anaconda3\\lib\\site-packages (from tensorflow) (0.35.1)\n",
      "Collecting keras-preprocessing~=1.1.2\n",
      "  Downloading Keras_Preprocessing-1.1.2-py2.py3-none-any.whl (42 kB)\n",
      "Requirement already satisfied: werkzeug>=0.11.15 in c:\\users\\33611\\anaconda3\\lib\\site-packages (from tensorboard~=2.4->tensorflow) (1.0.1)\n",
      "Collecting google-auth-oauthlib<0.5,>=0.4.1\n",
      "  Downloading google_auth_oauthlib-0.4.2-py2.py3-none-any.whl (18 kB)\n",
      "Collecting markdown>=2.6.8\n",
      "  Downloading Markdown-3.3.3-py3-none-any.whl (96 kB)\n",
      "Requirement already satisfied: setuptools>=41.0.0 in c:\\users\\33611\\anaconda3\\lib\\site-packages (from tensorboard~=2.4->tensorflow) (50.3.1.post20201107)\n",
      "Collecting google-auth<2,>=1.6.3\n",
      "  Downloading google_auth-1.27.0-py2.py3-none-any.whl (135 kB)\n",
      "Collecting tensorboard-plugin-wit>=1.6.0\n",
      "  Downloading tensorboard_plugin_wit-1.8.0-py3-none-any.whl (781 kB)\n",
      "Requirement already satisfied: requests<3,>=2.21.0 in c:\\users\\33611\\anaconda3\\lib\\site-packages (from tensorboard~=2.4->tensorflow) (2.24.0)\n",
      "Collecting requests-oauthlib>=0.7.0\n",
      "  Downloading requests_oauthlib-1.3.0-py2.py3-none-any.whl (23 kB)\n",
      "Collecting rsa<5,>=3.1.4; python_version >= \"3.6\"\n",
      "  Downloading rsa-4.7.1-py3-none-any.whl (36 kB)\n",
      "Collecting cachetools<5.0,>=2.0.0\n",
      "  Downloading cachetools-4.2.1-py3-none-any.whl (12 kB)\n",
      "Collecting pyasn1-modules>=0.2.1\n",
      "  Downloading pyasn1_modules-0.2.8-py2.py3-none-any.whl (155 kB)\n",
      "Requirement already satisfied: certifi>=2017.4.17 in c:\\users\\33611\\anaconda3\\lib\\site-packages (from requests<3,>=2.21.0->tensorboard~=2.4->tensorflow) (2020.6.20)\n",
      "Requirement already satisfied: chardet<4,>=3.0.2 in c:\\users\\33611\\anaconda3\\lib\\site-packages (from requests<3,>=2.21.0->tensorboard~=2.4->tensorflow) (3.0.4)\n",
      "Requirement already satisfied: urllib3!=1.25.0,!=1.25.1,<1.26,>=1.21.1 in c:\\users\\33611\\anaconda3\\lib\\site-packages (from requests<3,>=2.21.0->tensorboard~=2.4->tensorflow) (1.25.11)\n",
      "Requirement already satisfied: idna<3,>=2.5 in c:\\users\\33611\\anaconda3\\lib\\site-packages (from requests<3,>=2.21.0->tensorboard~=2.4->tensorflow) (2.10)\n",
      "Collecting oauthlib>=3.0.0\n",
      "  Downloading oauthlib-3.1.0-py2.py3-none-any.whl (147 kB)\n",
      "Collecting pyasn1>=0.1.3\n",
      "  Downloading pyasn1-0.4.8-py2.py3-none-any.whl (77 kB)\n",
      "Building wheels for collected packages: termcolor, wrapt\n",
      "  Building wheel for termcolor (setup.py): started\n",
      "  Building wheel for termcolor (setup.py): finished with status 'done'\n",
      "  Created wheel for termcolor: filename=termcolor-1.1.0-py3-none-any.whl size=4835 sha256=4351d17a7cc81ccfcd89d37329daf40ca8015dfdb63f78401ff420026c7db2a9\n",
      "  Stored in directory: c:\\users\\33611\\appdata\\local\\pip\\cache\\wheels\\a0\\16\\9c\\5473df82468f958445479c59e784896fa24f4a5fc024b0f501\n",
      "  Building wheel for wrapt (setup.py): started\n",
      "  Building wheel for wrapt (setup.py): finished with status 'done'\n",
      "  Created wheel for wrapt: filename=wrapt-1.12.1-py3-none-any.whl size=19558 sha256=7a6b3df8c29e9434598ce47cff8b14094d07bca04ef01e90f45e815c2720ecba\n",
      "  Stored in directory: c:\\users\\33611\\appdata\\local\\pip\\cache\\wheels\\5f\\fd\\9e\\b6cf5890494cb8ef0b5eaff72e5d55a70fb56316007d6dfe73\n",
      "Successfully built termcolor wrapt\n",
      "Installing collected packages: gast, astunparse, oauthlib, requests-oauthlib, pyasn1, rsa, cachetools, pyasn1-modules, google-auth, google-auth-oauthlib, markdown, protobuf, tensorboard-plugin-wit, absl-py, grpcio, tensorboard, tensorflow-estimator, google-pasta, termcolor, opt-einsum, wrapt, flatbuffers, keras-preprocessing, tensorflow\n",
      "  Attempting uninstall: wrapt\n",
      "    Found existing installation: wrapt 1.11.2\n",
      "    Uninstalling wrapt-1.11.2:\n",
      "      Successfully uninstalled wrapt-1.11.2\n",
      "Successfully installed absl-py-0.11.0 astunparse-1.6.3 cachetools-4.2.1 flatbuffers-1.12 gast-0.3.3 google-auth-1.27.0 google-auth-oauthlib-0.4.2 google-pasta-0.2.0 grpcio-1.32.0 keras-preprocessing-1.1.2 markdown-3.3.3 oauthlib-3.1.0 opt-einsum-3.3.0 protobuf-3.15.0 pyasn1-0.4.8 pyasn1-modules-0.2.8 requests-oauthlib-1.3.0 rsa-4.7.1 tensorboard-2.4.1 tensorboard-plugin-wit-1.8.0 tensorflow-2.4.1 tensorflow-estimator-2.4.0 termcolor-1.1.0 wrapt-1.12.1\n"
     ]
    }
   ],
   "source": [
    "!pip install tensorflow"
   ]
  },
  {
   "cell_type": "code",
   "execution_count": 41,
   "metadata": {
    "colab": {
     "base_uri": "https://localhost:8080/"
    },
    "id": "JUXykV-QzBF0",
    "outputId": "92f0b129-560e-4318-d839-3d69e75e08be"
   },
   "outputs": [
    {
     "name": "stdout",
     "output_type": "stream",
     "text": [
      "Epoch 1/3\n",
      "82275/82275 [==============================] - 59s 714us/step - loss: 0.0968 - accuracy: 0.0000e+00\n",
      "Epoch 2/3\n",
      "82275/82275 [==============================] - 62s 749us/step - loss: 0.0018 - accuracy: 0.0000e+00\n",
      "Epoch 3/3\n",
      "82275/82275 [==============================] - 59s 719us/step - loss: 0.0018 - accuracy: 0.0000e+00\n"
     ]
    },
    {
     "ename": "NameError",
     "evalue": "name 'pyplot' is not defined",
     "output_type": "error",
     "traceback": [
      "\u001b[1;31m---------------------------------------------------------------------------\u001b[0m",
      "\u001b[1;31mNameError\u001b[0m                                 Traceback (most recent call last)",
      "\u001b[1;32m<ipython-input-41-536d29800bb6>\u001b[0m in \u001b[0;36m<module>\u001b[1;34m\u001b[0m\n\u001b[0;32m     17\u001b[0m \u001b[0mmodel\u001b[0m\u001b[1;33m.\u001b[0m\u001b[0mfit\u001b[0m\u001b[1;33m(\u001b[0m\u001b[0mx_train\u001b[0m\u001b[1;33m[\u001b[0m\u001b[0mfeatures_\u001b[0m\u001b[1;33m]\u001b[0m\u001b[1;33m,\u001b[0m\u001b[0my_train\u001b[0m\u001b[1;33m,\u001b[0m \u001b[0mepochs\u001b[0m\u001b[1;33m=\u001b[0m\u001b[1;36m3\u001b[0m\u001b[1;33m,\u001b[0m \u001b[0mbatch_size\u001b[0m\u001b[1;33m=\u001b[0m\u001b[1;36m5\u001b[0m\u001b[1;33m,\u001b[0m \u001b[0mverbose\u001b[0m\u001b[1;33m=\u001b[0m\u001b[1;36m1\u001b[0m\u001b[1;33m)\u001b[0m\u001b[1;33m\u001b[0m\u001b[1;33m\u001b[0m\u001b[0m\n\u001b[0;32m     18\u001b[0m \u001b[1;33m\u001b[0m\u001b[0m\n\u001b[1;32m---> 19\u001b[1;33m \u001b[0mpyplot\u001b[0m\u001b[1;33m.\u001b[0m\u001b[0mplot\u001b[0m\u001b[1;33m(\u001b[0m\u001b[0mhistory\u001b[0m\u001b[1;33m.\u001b[0m\u001b[0mhistory\u001b[0m\u001b[1;33m[\u001b[0m\u001b[1;34m'accuracy'\u001b[0m\u001b[1;33m]\u001b[0m\u001b[1;33m)\u001b[0m\u001b[1;33m\u001b[0m\u001b[1;33m\u001b[0m\u001b[0m\n\u001b[0m\u001b[0;32m     20\u001b[0m \u001b[0mpyplot\u001b[0m\u001b[1;33m.\u001b[0m\u001b[0mshow\u001b[0m\u001b[1;33m(\u001b[0m\u001b[1;33m)\u001b[0m\u001b[1;33m\u001b[0m\u001b[1;33m\u001b[0m\u001b[0m\n",
      "\u001b[1;31mNameError\u001b[0m: name 'pyplot' is not defined"
     ]
    }
   ],
   "source": [
    "import tensorflow as tf\n",
    "from tensorflow.keras.models import Sequential\n",
    "from tensorflow.keras.layers import Dense\n",
    "from tensorflow.keras.models import model_from_json\n",
    "from sklearn.model_selection import train_test_split\n",
    "\n",
    "# fix random seed for reproducibility\n",
    "np.random.seed(7)\n",
    "\n",
    "x_train, x_test, y_train, y_test = train_test_split(stock_model_ready_df[features], stock_model_ready_df[label], test_size=0.33, random_state=42 )\n",
    "model= Sequential()\n",
    "model.add(Dense(5,activation='relu',input_dim=5))\n",
    "model.add(Dense(5,activation='relu'))\n",
    "model.add(Dense(1, kernel_initializer='normal'))\n",
    "model.compile(loss='mean_squared_error', optimizer='adam')\n",
    "\n",
    "model.fit(x_train[features_],y_train, epochs=3, batch_size=5, verbose=1)\n",
    "\n"
   ]
  },
  {
   "cell_type": "code",
   "execution_count": 15,
   "metadata": {
    "colab": {
     "base_uri": "https://localhost:8080/"
    },
    "id": "5UkfdsU__i-k",
    "outputId": "2aa7890d-7a59-41f0-e40c-c1a5fd2133ec"
   },
   "outputs": [
    {
     "name": "stdout",
     "output_type": "stream",
     "text": [
      "loss: 0.20%\n"
     ]
    }
   ],
   "source": [
    "scores = model.evaluate(x_test[features_], y_test, verbose=0)\n",
    "print(\"%s: %.2f%%\" % (model.metrics_names[0], scores*100))\n"
   ]
  },
  {
   "cell_type": "code",
   "execution_count": 16,
   "metadata": {
    "colab": {
     "base_uri": "https://localhost:8080/"
    },
    "id": "PtS31iNRB5QB",
    "outputId": "ebd40cc1-69eb-4fbb-a5d4-2df4d19eb9cb"
   },
   "outputs": [
    {
     "name": "stdout",
     "output_type": "stream",
     "text": [
      "Saved model to disk\n"
     ]
    }
   ],
   "source": [
    "# serialize model to JSON\n",
    "model_json = model.to_json()\n",
    "with open(\"model.json\", \"w\") as json_file:\n",
    "    json_file.write(model_json)\n",
    "# serialize weights to HDF5\n",
    "model.save_weights(\"model.h5\")\n",
    "print(\"Saved model to disk\")"
   ]
  },
  {
   "cell_type": "code",
   "execution_count": 17,
   "metadata": {
    "colab": {
     "base_uri": "https://localhost:8080/"
    },
    "id": "F5Lx1YYjCA9-",
    "outputId": "261e028c-9ffe-4971-cfc1-bb226e7a8265"
   },
   "outputs": [
    {
     "name": "stdout",
     "output_type": "stream",
     "text": [
      "Loaded model from disk\n"
     ]
    }
   ],
   "source": [
    "# deserialize the model\n",
    "# load json and create model\n",
    "json_file = open('model.json', 'r')\n",
    "loaded_model_json = json_file.read()\n",
    "json_file.close()\n",
    "loaded_model = model_from_json(loaded_model_json)\n",
    "# load weights into new model\n",
    "loaded_model.load_weights(\"model.h5\")\n",
    "print(\"Loaded model from disk\")"
   ]
  },
  {
   "cell_type": "code",
   "execution_count": 40,
   "metadata": {
    "colab": {
     "base_uri": "https://localhost:8080/"
    },
    "id": "BMAdA330COe3",
    "outputId": "1a1790cb-29fc-48e4-86b7-40352c8218da"
   },
   "outputs": [
    {
     "ename": "TypeError",
     "evalue": "must be real number, not list",
     "output_type": "error",
     "traceback": [
      "\u001b[1;31m---------------------------------------------------------------------------\u001b[0m",
      "\u001b[1;31mTypeError\u001b[0m                                 Traceback (most recent call last)",
      "\u001b[1;32m<ipython-input-40-7c838661eb63>\u001b[0m in \u001b[0;36m<module>\u001b[1;34m\u001b[0m\n\u001b[0;32m      2\u001b[0m \u001b[0mloaded_model\u001b[0m\u001b[1;33m.\u001b[0m\u001b[0mcompile\u001b[0m\u001b[1;33m(\u001b[0m\u001b[0mloss\u001b[0m\u001b[1;33m=\u001b[0m\u001b[1;34m'mean_squared_error'\u001b[0m\u001b[1;33m,\u001b[0m \u001b[0moptimizer\u001b[0m\u001b[1;33m=\u001b[0m\u001b[1;34m'adam'\u001b[0m\u001b[1;33m,\u001b[0m\u001b[0mmetrics\u001b[0m\u001b[1;33m=\u001b[0m\u001b[1;33m[\u001b[0m\u001b[1;34m'accuracy'\u001b[0m\u001b[1;33m]\u001b[0m\u001b[1;33m)\u001b[0m\u001b[1;33m\u001b[0m\u001b[1;33m\u001b[0m\u001b[0m\n\u001b[0;32m      3\u001b[0m \u001b[0mscore\u001b[0m \u001b[1;33m=\u001b[0m \u001b[0mloaded_model\u001b[0m\u001b[1;33m.\u001b[0m\u001b[0mevaluate\u001b[0m\u001b[1;33m(\u001b[0m\u001b[0mx_test\u001b[0m\u001b[1;33m[\u001b[0m\u001b[0mfeatures_\u001b[0m\u001b[1;33m]\u001b[0m\u001b[1;33m,\u001b[0m \u001b[0my_test\u001b[0m\u001b[1;33m,\u001b[0m \u001b[0mverbose\u001b[0m\u001b[1;33m=\u001b[0m\u001b[1;36m0\u001b[0m\u001b[1;33m)\u001b[0m\u001b[1;33m\u001b[0m\u001b[1;33m\u001b[0m\u001b[0m\n\u001b[1;32m----> 4\u001b[1;33m \u001b[0mprint\u001b[0m\u001b[1;33m(\u001b[0m\u001b[1;34m\"%s: %.2f%%\"\u001b[0m \u001b[1;33m%\u001b[0m \u001b[1;33m(\u001b[0m\u001b[0mloaded_model\u001b[0m\u001b[1;33m.\u001b[0m\u001b[0mmetrics_names\u001b[0m\u001b[1;33m,\u001b[0m \u001b[0mscore\u001b[0m\u001b[1;33m*\u001b[0m\u001b[1;36m100\u001b[0m\u001b[1;33m)\u001b[0m\u001b[1;33m)\u001b[0m\u001b[1;33m\u001b[0m\u001b[1;33m\u001b[0m\u001b[0m\n\u001b[0m",
      "\u001b[1;31mTypeError\u001b[0m: must be real number, not list"
     ]
    }
   ],
   "source": [
    "# evaluate loaded model on test data\n",
    "loaded_model.compile(loss='mean_squared_error', optimizer='adam')\n",
    "score = loaded_model.evaluate(x_test[features_], y_test, verbose=0)\n",
    "print(\"%s: %.2f%%\" % (loaded_model.metrics_names[0], score*100))"
   ]
  },
  {
   "cell_type": "code",
   "execution_count": 19,
   "metadata": {
    "colab": {
     "base_uri": "https://localhost:8080/"
    },
    "id": "UJ7Vk5SjCY38",
    "outputId": "2509505e-38f4-415b-8e1c-5c8c78abc0a0"
   },
   "outputs": [
    {
     "data": {
      "text/plain": [
       "array([[4.182125 ],\n",
       "       [4.1787815],\n",
       "       [4.1700306],\n",
       "       ...,\n",
       "       [5.1236043],\n",
       "       [5.1134453],\n",
       "       [5.103176 ]], dtype=float32)"
      ]
     },
     "execution_count": 19,
     "metadata": {},
     "output_type": "execute_result"
    }
   ],
   "source": [
    "# predictions have to be restored for processing\n",
    "x_evaluate_tmp = stock_model_ready_df.copy()\n",
    "x_evaluate_tmp = x_evaluate_tmp[x_evaluate_tmp['symbol'] == 'AAPL']\n",
    "\n",
    "predictions = loaded_model.predict(x_evaluate_tmp[features_])\n",
    "predictions"
   ]
  },
  {
   "cell_type": "code",
   "execution_count": 20,
   "metadata": {
    "colab": {
     "base_uri": "https://localhost:8080/"
    },
    "id": "Lhv_Bf9IEw9N",
    "outputId": "5eb6c9c6-cadd-4b74-fe34-bf352847f30f"
   },
   "outputs": [
    {
     "name": "stdout",
     "output_type": "stream",
     "text": [
      "206126    4.147207\n",
      "206127    4.161045\n",
      "206128    4.151196\n",
      "206129    4.144041\n",
      "206130    4.118967\n",
      "206131    4.094463\n",
      "206132    4.120530\n",
      "206133    4.107735\n",
      "206134    4.119227\n",
      "206135    4.121866\n",
      "Name: outcome, dtype: float64\n",
      "RMSE: (+/- off) 0.04560891947219183\n"
     ]
    }
   ],
   "source": [
    "actuals = x_evaluate_tmp['outcome']\n",
    "forecasts =  [ item for elem in predictions.tolist() for item in elem] \n",
    "print(actuals[0:10])\n",
    "\n",
    "from sklearn.metrics import mean_squared_error\n",
    "print('RMSE: (+/- off)', np.sqrt(mean_squared_error(list(actuals), forecasts)))"
   ]
  },
  {
   "cell_type": "code",
   "execution_count": 21,
   "metadata": {
    "colab": {
     "base_uri": "https://localhost:8080/",
     "height": 512
    },
    "id": "RFzfloZ1JVY7",
    "outputId": "211c4e62-68bb-41fd-d597-f766568da350"
   },
   "outputs": [
    {
     "data": {
      "image/png": "[encoded data removed]",
      "text/plain": [
       "<Figure size 1080x576 with 1 Axes>"
      ]
     },
     "metadata": {
      "needs_background": "light"
     },
     "output_type": "display_data"
    }
   ],
   "source": [
    "x_done = x_evaluate_tmp.copy()\n",
    "x_done['forecast'] = forecasts\n",
    "\n",
    "x_done = x_done.sort_values('date')\n",
    "x_done = x_done.tail(50)\n",
    "x_done['date'] = pd.to_datetime(x_done['date'])\n",
    "\n",
    "fig, ax = plt.subplots(figsize=(15,8))\n",
    "plt.suptitle('AAPL Test Forecast: ' + str(np.min(x_done['date']))[:10] + ' to '+ str(np.max(x_done['date']))[:10])\n",
    "plt.plot(x_done['date'] , x_done['outcome'],  color='black', label='Actual')\n",
    "plt.plot(x_done['date'] , x_done['forecast'],  color='blue', label='Forecast')\n",
    "plt.legend()\n",
    "plt.grid()\n",
    "plt.xticks(rotation='vertical')\n",
    "ax.xaxis_date()      \n",
    "fig.autofmt_xdate()\n",
    "plt.show()"
   ]
  },
  {
   "cell_type": "markdown",
   "metadata": {
    "id": "sC_JJrlKKWsl"
   },
   "source": [
    "Forecast on live data (basically the last x days where we don't have an outcome...)\n"
   ]
  },
  {
   "cell_type": "code",
   "execution_count": 22,
   "metadata": {
    "colab": {
     "base_uri": "https://localhost:8080/",
     "height": 559
    },
    "id": "IwyappWuKN9w",
    "outputId": "581f07a7-2824-479e-e728-c6808aaf3e0b"
   },
   "outputs": [
    {
     "name": "stdout",
     "output_type": "stream",
     "text": [
      "2018-02-07 00:00:00\n"
     ]
    },
    {
     "data": {
      "image/png": "[encoded data removed]",
      "text/plain": [
       "<Figure size 1152x576 with 1 Axes>"
      ]
     },
     "metadata": {
      "needs_background": "light"
     },
     "output_type": "display_data"
    }
   ],
   "source": [
    "# forecast on live data (basically the last x days where we don't have an outcome...)\n",
    "predictions = loaded_model.predict(x_evaluate_tmp[features_])\n",
    "forecasts =  [ item for elem in predictions.tolist() for item in elem] \n",
    "\n",
    "future_df_tmp = x_evaluate_tmp.copy()\n",
    "future_df_tmp['forcast'] = np.exp(forecasts)\n",
    "future_df_tmp['date'] = pd.to_datetime(future_df_tmp['date'])  \n",
    "\n",
    "print(np.max(future_df_tmp['date']))\n",
    "future_df_tmp = future_df_tmp.tail(10)\n",
    "\n",
    "future_df_tmp = future_df_tmp.sort_values('date')\n",
    "\n",
    "fig, ax = plt.subplots(figsize=(16, 8))\n",
    "plt.suptitle('AAPL')\n",
    "plt.plot(future_df_tmp['date'], future_df_tmp['forcast'], color='blue', label='Forecast')\n",
    "plt.legend()\n",
    "plt.grid()\n",
    "plt.xticks(rotation='vertical')\n",
    "plt.show()"
   ]
  },
  {
   "cell_type": "code",
   "execution_count": 23,
   "metadata": {
    "colab": {
     "base_uri": "https://localhost:8080/",
     "height": 654
    },
    "id": "qfXPBC0MMTFl",
    "outputId": "61dd055f-be91-49a4-94b1-615249b1f6bf"
   },
   "outputs": [
    {
     "data": {
      "text/plain": [
       "([<matplotlib.axis.XTick at 0x209109cf850>,\n",
       "  <matplotlib.axis.XTick at 0x209109cfac0>,\n",
       "  <matplotlib.axis.XTick at 0x209109cf3a0>,\n",
       "  <matplotlib.axis.XTick at 0x20911621670>,\n",
       "  <matplotlib.axis.XTick at 0x20911621790>,\n",
       "  <matplotlib.axis.XTick at 0x20911641e80>,\n",
       "  <matplotlib.axis.XTick at 0x20911641610>,\n",
       "  <matplotlib.axis.XTick at 0x20911641ac0>,\n",
       "  <matplotlib.axis.XTick at 0x2091102aee0>],\n",
       " [Text(0.0, 0, '2018-01-31'),\n",
       "  Text(1.0, 0, '2018-01-30'),\n",
       "  Text(2.0, 0, '2018-01-29'),\n",
       "  Text(3.0, 0, '2018-01-26'),\n",
       "  Text(4.0, 0, '2018-02-01'),\n",
       "  Text(5.0, 0, '2018-02-02'),\n",
       "  Text(6.0, 0, '2018-02-05'),\n",
       "  Text(7.0, 0, '2018-02-06'),\n",
       "  Text(8.0, 0, '2018-02-07')])"
      ]
     },
     "execution_count": 23,
     "metadata": {},
     "output_type": "execute_result"
    },
    {
     "data": {
      "image/png": "[encoded data removed]",
      "text/plain": [
       "<Figure size 432x288 with 1 Axes>"
      ]
     },
     "metadata": {
      "needs_background": "light"
     },
     "output_type": "display_data"
    }
   ],
   "source": [
    "actuals = list(future_df_tmp.tail(1).values[0])[0:predict_out_period-1]\n",
    "# transform log price to price of past data\n",
    "actuals = list(np.exp(actuals))\n",
    "days_before = future_df_tmp['last_market_date'].values[-1]\n",
    "days_before_list = []\n",
    "for d in range(rolling_period-1):\n",
    "    days_before_list.append(str(np.busday_offset(np.datetime64(days_before,'D'),-d, roll='backward')))\n",
    "     \n",
    "plt.plot(days_before_list, actuals, color='green', linewidth=4)\n",
    " \n",
    "for d in range(1, predict_out_period+1):\n",
    "    days_before_list.append(str(np.busday_offset(np.datetime64(days_before,'D'),d, roll='forward')))\n",
    "    actuals.append(future_df_tmp['forcast'].values[-1])\n",
    "     \n",
    "\n",
    "plt.suptitle('Forcast for ' + str(future_df_tmp['date'].values[-1])[0:10] + ': $' + str(np.round(future_df_tmp['forcast'].values[-1],2)))\n",
    "plt.plot(days_before_list, actuals, color='blue', linestyle='dashed')\n",
    "plt.grid()\n",
    "plt.xticks(days_before_list, days_before_list, rotation='vertical')"
   ]
  },
  {
   "cell_type": "code",
   "execution_count": null,
   "metadata": {
    "id": "isaNw8zwSx4p"
   },
   "outputs": [],
   "source": []
  }
 ],
 "metadata": {
  "accelerator": "GPU",
  "colab": {
   "collapsed_sections": [],
   "name": "Untitled12.ipynb",
   "provenance": []
  },
  "kernelspec": {
   "display_name": "Python 3",
   "language": "python",
   "name": "python3"
  },
  "language_info": {
   "codemirror_mode": {
    "name": "ipython",
    "version": 3
   },
   "file_extension": ".py",
   "mimetype": "text/x-python",
   "name": "python",
   "nbconvert_exporter": "python",
   "pygments_lexer": "ipython3",
   "version": "3.8.5"
  }
 },
 "nbformat": 4,
 "nbformat_minor": 1
}
