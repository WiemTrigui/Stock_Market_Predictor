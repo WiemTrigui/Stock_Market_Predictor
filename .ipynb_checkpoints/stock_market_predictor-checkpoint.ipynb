{
 "cells": [
  {
   "cell_type": "code",
   "execution_count": 1,
   "metadata": {
    "id": "F0WyaZmFaEaI"
   },
   "outputs": [],
   "source": [
    "import pandas as pd\n",
    "import matplotlib.pyplot as plt\n",
    "import matplotlib\n",
    "import datetime, random\n",
    "import numpy as np; np.random.seed(0)\n",
    "import warnings\n",
    "import itertools, os\n",
    "from zipfile import ZipFile\n",
    "from urllib.request import urlopen\n",
    "from io import BytesIO\n",
    "warnings.filterwarnings('ignore')\n",
    "\n"
   ]
  },
  {
   "cell_type": "markdown",
   "metadata": {
    "id": "fd99k6rYbJ7z"
   },
   "source": [
    "**Loading data** \n"
   ]
  },
  {
   "cell_type": "code",
   "execution_count": 2,
   "metadata": {
    "id": "9VJdUv14bGQO"
   },
   "outputs": [],
   "source": [
    "# Load locally\n",
    "local = False\n",
    "\n",
    "if not local:\n",
    "    # this will download a copy from GitHub and save it locally\n",
    "    URL = 'https://github.com/amunategui/amunategui.github.io/raw/master/all_stocks_5yr.zip'\n",
    "    z = urlopen(URL)\n",
    "    myzip = ZipFile(BytesIO(z.read())).extract('all_stocks_5yr.csv')\n",
    "    stocks_df = pd.read_csv(myzip)\n",
    "    \n",
    "else:\n",
    "    # read locally saved version\n",
    "    stocks_df = pd.read_csv('all_stocks_5yr.csv')"
   ]
  },
  {
   "cell_type": "code",
   "execution_count": 3,
   "metadata": {
    "colab": {
     "base_uri": "https://localhost:8080/",
     "height": 202
    },
    "id": "6BVwBHNtaPgk",
    "outputId": "4bb8489d-4f55-4609-e9fd-3358fe2099f6"
   },
   "outputs": [
    {
     "data": {
      "text/html": [
       "<div>\n",
       "<style scoped>\n",
       "    .dataframe tbody tr th:only-of-type {\n",
       "        vertical-align: middle;\n",
       "    }\n",
       "\n",
       "    .dataframe tbody tr th {\n",
       "        vertical-align: top;\n",
       "    }\n",
       "\n",
       "    .dataframe thead th {\n",
       "        text-align: right;\n",
       "    }\n",
       "</style>\n",
       "<table border=\"1\" class=\"dataframe\">\n",
       "  <thead>\n",
       "    <tr style=\"text-align: right;\">\n",
       "      <th></th>\n",
       "      <th>date</th>\n",
       "      <th>open</th>\n",
       "      <th>high</th>\n",
       "      <th>low</th>\n",
       "      <th>close</th>\n",
       "      <th>volume</th>\n",
       "      <th>Name</th>\n",
       "    </tr>\n",
       "  </thead>\n",
       "  <tbody>\n",
       "    <tr>\n",
       "      <th>0</th>\n",
       "      <td>2013-02-08</td>\n",
       "      <td>15.07</td>\n",
       "      <td>15.12</td>\n",
       "      <td>14.63</td>\n",
       "      <td>14.75</td>\n",
       "      <td>8407500</td>\n",
       "      <td>AAL</td>\n",
       "    </tr>\n",
       "    <tr>\n",
       "      <th>1</th>\n",
       "      <td>2013-02-11</td>\n",
       "      <td>14.89</td>\n",
       "      <td>15.01</td>\n",
       "      <td>14.26</td>\n",
       "      <td>14.46</td>\n",
       "      <td>8882000</td>\n",
       "      <td>AAL</td>\n",
       "    </tr>\n",
       "    <tr>\n",
       "      <th>2</th>\n",
       "      <td>2013-02-12</td>\n",
       "      <td>14.45</td>\n",
       "      <td>14.51</td>\n",
       "      <td>14.10</td>\n",
       "      <td>14.27</td>\n",
       "      <td>8126000</td>\n",
       "      <td>AAL</td>\n",
       "    </tr>\n",
       "    <tr>\n",
       "      <th>3</th>\n",
       "      <td>2013-02-13</td>\n",
       "      <td>14.30</td>\n",
       "      <td>14.94</td>\n",
       "      <td>14.25</td>\n",
       "      <td>14.66</td>\n",
       "      <td>10259500</td>\n",
       "      <td>AAL</td>\n",
       "    </tr>\n",
       "    <tr>\n",
       "      <th>4</th>\n",
       "      <td>2013-02-14</td>\n",
       "      <td>14.94</td>\n",
       "      <td>14.96</td>\n",
       "      <td>13.16</td>\n",
       "      <td>13.99</td>\n",
       "      <td>31879900</td>\n",
       "      <td>AAL</td>\n",
       "    </tr>\n",
       "  </tbody>\n",
       "</table>\n",
       "</div>"
      ],
      "text/plain": [
       "         date   open   high    low  close    volume Name\n",
       "0  2013-02-08  15.07  15.12  14.63  14.75   8407500  AAL\n",
       "1  2013-02-11  14.89  15.01  14.26  14.46   8882000  AAL\n",
       "2  2013-02-12  14.45  14.51  14.10  14.27   8126000  AAL\n",
       "3  2013-02-13  14.30  14.94  14.25  14.66  10259500  AAL\n",
       "4  2013-02-14  14.94  14.96  13.16  13.99  31879900  AAL"
      ]
     },
     "execution_count": 3,
     "metadata": {},
     "output_type": "execute_result"
    }
   ],
   "source": [
    "stocks_df.head()"
   ]
  },
  {
   "cell_type": "code",
   "execution_count": 4,
   "metadata": {
    "colab": {
     "base_uri": "https://localhost:8080/"
    },
    "id": "v7AV4EQEajaD",
    "outputId": "5b64777d-39f0-4d45-cef5-b9d2728afc72"
   },
   "outputs": [
    {
     "data": {
      "text/plain": [
       "(619040, 7)"
      ]
     },
     "execution_count": 4,
     "metadata": {},
     "output_type": "execute_result"
    }
   ],
   "source": [
    "stocks_df.shape"
   ]
  },
  {
   "cell_type": "markdown",
   "metadata": {
    "id": "Z2yv-MvIa-w5"
   },
   "source": [
    "**Preparing data**"
   ]
  },
  {
   "cell_type": "code",
   "execution_count": 5,
   "metadata": {
    "colab": {
     "base_uri": "https://localhost:8080/"
    },
    "id": "hKhdjipya4vK",
    "outputId": "3ee888de-f636-41e8-802a-24cb694121c9"
   },
   "outputs": [
    {
     "name": "stdout",
     "output_type": "stream",
     "text": [
      "['LB', 'IRM', 'HAS', 'NFX', 'JPM', 'LLY', 'MCO', 'AMP', 'JEC', 'ADP']\n"
     ]
    }
   ],
   "source": [
    "stock_symbols=list(set(stocks_df[\"Name\"]))\n",
    "print(stock_symbols[0:10])\n"
   ]
  },
  {
   "cell_type": "code",
   "execution_count": 6,
   "metadata": {
    "id": "FCq--tVOb_l5"
   },
   "outputs": [],
   "source": [
    "# build dataset  \n",
    "X = []\n",
    "y = []\n",
    "symbols = []\n",
    "prediction_dates = []\n",
    "last_market_dates = []\n",
    "\n",
    "# rolling predictions\n",
    "rolling_period = 5\n",
    "predict_out_period = 5\n",
    "\n",
    "for stock in stock_symbols:\n",
    "    stock_data = stocks_df[stocks_df['Name']==stock].copy()\n",
    "    \n",
    "    for per in range(rolling_period, len(stock_data)-predict_out_period):\n",
    "        X_tmp = []\n",
    "        y_tmp = 0\n",
    "        for rollper in range(per-rolling_period,per):\n",
    "            # build the 'features'\n",
    "            #get the log to normalize the prices\n",
    "            X_tmp += [np.log(stock_data['close'].values[rollper])]\n",
    "\n",
    "        X.append(np.array(X_tmp))\n",
    "        # build 'labels'\n",
    "        y.append(np.log(stock_data['close'].values[per + predict_out_period]))\n",
    "        prediction_dates.append(stock_data['date'].values[per + predict_out_period])\n",
    "        last_market_dates.append(stock_data['date'].values[per])\n",
    "        symbols.append(stock)\n",
    "\n",
    " \n",
    "\n"
   ]
  },
  {
   "cell_type": "code",
   "execution_count": 7,
   "metadata": {
    "id": "veBrJ60dj9HB"
   },
   "outputs": [],
   "source": [
    "stock_model_ready_df = pd.DataFrame(X)\n",
    "stock_model_ready_df.columns = [str(f) for f in list(stock_model_ready_df)]\n",
    "stock_model_ready_df.head()\n",
    "stock_model_ready_df['outcome'] = y\n",
    "stock_model_ready_df['date'] = prediction_dates\n",
    "stock_model_ready_df['last_market_date'] = last_market_dates\n",
    "stock_model_ready_df['symbol'] = symbols\n",
    "\n",
    "\n",
    "# write a copy to file to use in our web application\n",
    "stock_model_ready_df.to_csv('stock_market_historical_data.csv', index=None)"
   ]
  },
  {
   "cell_type": "code",
   "execution_count": 8,
   "metadata": {
    "colab": {
     "base_uri": "https://localhost:8080/",
     "height": 202
    },
    "id": "flbDBH-lpZ3-",
    "outputId": "8339fb14-64e7-4231-e516-804c101b92a2"
   },
   "outputs": [
    {
     "data": {
      "text/html": [
       "<div>\n",
       "<style scoped>\n",
       "    .dataframe tbody tr th:only-of-type {\n",
       "        vertical-align: middle;\n",
       "    }\n",
       "\n",
       "    .dataframe tbody tr th {\n",
       "        vertical-align: top;\n",
       "    }\n",
       "\n",
       "    .dataframe thead th {\n",
       "        text-align: right;\n",
       "    }\n",
       "</style>\n",
       "<table border=\"1\" class=\"dataframe\">\n",
       "  <thead>\n",
       "    <tr style=\"text-align: right;\">\n",
       "      <th></th>\n",
       "      <th>0</th>\n",
       "      <th>1</th>\n",
       "      <th>2</th>\n",
       "      <th>3</th>\n",
       "      <th>4</th>\n",
       "      <th>outcome</th>\n",
       "      <th>date</th>\n",
       "      <th>last_market_date</th>\n",
       "      <th>symbol</th>\n",
       "    </tr>\n",
       "  </thead>\n",
       "  <tbody>\n",
       "    <tr>\n",
       "      <th>613985</th>\n",
       "      <td>3.455054</td>\n",
       "      <td>3.470723</td>\n",
       "      <td>3.471966</td>\n",
       "      <td>3.483392</td>\n",
       "      <td>3.484312</td>\n",
       "      <td>3.517201</td>\n",
       "      <td>2018-02-01</td>\n",
       "      <td>2018-01-25</td>\n",
       "      <td>CSRA</td>\n",
       "    </tr>\n",
       "    <tr>\n",
       "      <th>613986</th>\n",
       "      <td>3.470723</td>\n",
       "      <td>3.471966</td>\n",
       "      <td>3.483392</td>\n",
       "      <td>3.484312</td>\n",
       "      <td>3.491038</td>\n",
       "      <td>3.476614</td>\n",
       "      <td>2018-02-02</td>\n",
       "      <td>2018-01-26</td>\n",
       "      <td>CSRA</td>\n",
       "    </tr>\n",
       "    <tr>\n",
       "      <th>613987</th>\n",
       "      <td>3.471966</td>\n",
       "      <td>3.483392</td>\n",
       "      <td>3.484312</td>\n",
       "      <td>3.491038</td>\n",
       "      <td>3.498627</td>\n",
       "      <td>3.432696</td>\n",
       "      <td>2018-02-05</td>\n",
       "      <td>2018-01-29</td>\n",
       "      <td>CSRA</td>\n",
       "    </tr>\n",
       "    <tr>\n",
       "      <th>613988</th>\n",
       "      <td>3.483392</td>\n",
       "      <td>3.484312</td>\n",
       "      <td>3.491038</td>\n",
       "      <td>3.498627</td>\n",
       "      <td>3.504355</td>\n",
       "      <td>3.419365</td>\n",
       "      <td>2018-02-06</td>\n",
       "      <td>2018-01-30</td>\n",
       "      <td>CSRA</td>\n",
       "    </tr>\n",
       "    <tr>\n",
       "      <th>613989</th>\n",
       "      <td>3.484312</td>\n",
       "      <td>3.491038</td>\n",
       "      <td>3.498627</td>\n",
       "      <td>3.504355</td>\n",
       "      <td>3.492256</td>\n",
       "      <td>3.445214</td>\n",
       "      <td>2018-02-07</td>\n",
       "      <td>2018-01-31</td>\n",
       "      <td>CSRA</td>\n",
       "    </tr>\n",
       "  </tbody>\n",
       "</table>\n",
       "</div>"
      ],
      "text/plain": [
       "               0         1         2         3         4   outcome  \\\n",
       "613985  3.455054  3.470723  3.471966  3.483392  3.484312  3.517201   \n",
       "613986  3.470723  3.471966  3.483392  3.484312  3.491038  3.476614   \n",
       "613987  3.471966  3.483392  3.484312  3.491038  3.498627  3.432696   \n",
       "613988  3.483392  3.484312  3.491038  3.498627  3.504355  3.419365   \n",
       "613989  3.484312  3.491038  3.498627  3.504355  3.492256  3.445214   \n",
       "\n",
       "              date last_market_date symbol  \n",
       "613985  2018-02-01       2018-01-25   CSRA  \n",
       "613986  2018-02-02       2018-01-26   CSRA  \n",
       "613987  2018-02-05       2018-01-29   CSRA  \n",
       "613988  2018-02-06       2018-01-30   CSRA  \n",
       "613989  2018-02-07       2018-01-31   CSRA  "
      ]
     },
     "execution_count": 8,
     "metadata": {},
     "output_type": "execute_result"
    }
   ],
   "source": [
    "stock_model_ready_df.tail()\n"
   ]
  },
  {
   "cell_type": "markdown",
   "metadata": {
    "id": "BOTzLVZYqvle"
   },
   "source": []
  },
  {
   "cell_type": "code",
   "execution_count": 9,
   "metadata": {
    "colab": {
     "base_uri": "https://localhost:8080/",
     "height": 202
    },
    "id": "E0Zdxu1IoktM",
    "outputId": "99741e4b-9168-413b-9b54-66fdffdb4416"
   },
   "outputs": [
    {
     "data": {
      "text/html": [
       "<div>\n",
       "<style scoped>\n",
       "    .dataframe tbody tr th:only-of-type {\n",
       "        vertical-align: middle;\n",
       "    }\n",
       "\n",
       "    .dataframe tbody tr th {\n",
       "        vertical-align: top;\n",
       "    }\n",
       "\n",
       "    .dataframe thead th {\n",
       "        text-align: right;\n",
       "    }\n",
       "</style>\n",
       "<table border=\"1\" class=\"dataframe\">\n",
       "  <thead>\n",
       "    <tr style=\"text-align: right;\">\n",
       "      <th></th>\n",
       "      <th>0</th>\n",
       "      <th>1</th>\n",
       "      <th>2</th>\n",
       "      <th>3</th>\n",
       "      <th>4</th>\n",
       "      <th>outcome</th>\n",
       "      <th>date</th>\n",
       "      <th>last_market_date</th>\n",
       "    </tr>\n",
       "  </thead>\n",
       "  <tbody>\n",
       "    <tr>\n",
       "      <th>0</th>\n",
       "      <td>5.144642</td>\n",
       "      <td>5.123726</td>\n",
       "      <td>5.117814</td>\n",
       "      <td>5.120565</td>\n",
       "      <td>5.122654</td>\n",
       "      <td>-1</td>\n",
       "      <td>2018-02-08</td>\n",
       "      <td>2018-02-01</td>\n",
       "    </tr>\n",
       "    <tr>\n",
       "      <th>1</th>\n",
       "      <td>5.123726</td>\n",
       "      <td>5.117814</td>\n",
       "      <td>5.120565</td>\n",
       "      <td>5.122654</td>\n",
       "      <td>5.078294</td>\n",
       "      <td>-1</td>\n",
       "      <td>2018-02-09</td>\n",
       "      <td>2018-02-02</td>\n",
       "    </tr>\n",
       "    <tr>\n",
       "      <th>2</th>\n",
       "      <td>5.117814</td>\n",
       "      <td>5.120565</td>\n",
       "      <td>5.122654</td>\n",
       "      <td>5.078294</td>\n",
       "      <td>5.052992</td>\n",
       "      <td>-1</td>\n",
       "      <td>2018-02-12</td>\n",
       "      <td>2018-02-05</td>\n",
       "    </tr>\n",
       "    <tr>\n",
       "      <th>3</th>\n",
       "      <td>5.120565</td>\n",
       "      <td>5.122654</td>\n",
       "      <td>5.078294</td>\n",
       "      <td>5.052992</td>\n",
       "      <td>5.093934</td>\n",
       "      <td>-1</td>\n",
       "      <td>2018-02-13</td>\n",
       "      <td>2018-02-06</td>\n",
       "    </tr>\n",
       "    <tr>\n",
       "      <th>4</th>\n",
       "      <td>5.122654</td>\n",
       "      <td>5.078294</td>\n",
       "      <td>5.052992</td>\n",
       "      <td>5.093934</td>\n",
       "      <td>5.072295</td>\n",
       "      <td>-1</td>\n",
       "      <td>2018-02-14</td>\n",
       "      <td>2018-02-07</td>\n",
       "    </tr>\n",
       "  </tbody>\n",
       "</table>\n",
       "</div>"
      ],
      "text/plain": [
       "          0         1         2         3         4  outcome       date  \\\n",
       "0  5.144642  5.123726  5.117814  5.120565  5.122654       -1 2018-02-08   \n",
       "1  5.123726  5.117814  5.120565  5.122654  5.078294       -1 2018-02-09   \n",
       "2  5.117814  5.120565  5.122654  5.078294  5.052992       -1 2018-02-12   \n",
       "3  5.120565  5.122654  5.078294  5.052992  5.093934       -1 2018-02-13   \n",
       "4  5.122654  5.078294  5.052992  5.093934  5.072295       -1 2018-02-14   \n",
       "\n",
       "  last_market_date  \n",
       "0       2018-02-01  \n",
       "1       2018-02-02  \n",
       "2       2018-02-05  \n",
       "3       2018-02-06  \n",
       "4       2018-02-07  "
      ]
     },
     "execution_count": 9,
     "metadata": {},
     "output_type": "execute_result"
    }
   ],
   "source": [
    "# loop the amount of days we don't have an outome\n",
    "stock_data_live = stocks_df[stocks_df['Name']=='AAPL'].copy()\n",
    "no_outcome_id = len(stock_data_live)-predict_out_period\n",
    "future_data = []\n",
    "prediction_dates = []\n",
    "last_market_dates = []\n",
    "\n",
    "# shift everything out into 'no outcome' zone\n",
    "for per in range(no_outcome_id+1, len(stock_data_live)+1): \n",
    "    X_tmp = []\n",
    "    y_tmp = 0\n",
    "    for rollper in range(per-rolling_period,per):\n",
    "        X_tmp += [np.log(stock_data_live['close'].values[rollper])]\n",
    "    \n",
    "    future_data.append(np.array(X_tmp))\n",
    "    last_market_dates.append(stock_data_live['date'].values[rollper])\n",
    "    # create a business day offset for future dates to avoid weekends and holidays \n",
    "    prediction_dates.append(np.busday_offset(np.datetime64(stock_data_live['date'].values[rollper],'D'),predict_out_period, roll='forward'))\n",
    "\n",
    "future_model_ready_df = pd.DataFrame(future_data)\n",
    "future_model_ready_df.columns = [str(f) for f in list(future_model_ready_df)]\n",
    "\n",
    "# outcome here is just a random placeholder, it won't be used\n",
    "future_model_ready_df['outcome'] = -1\n",
    "future_model_ready_df['date'] = prediction_dates\n",
    "future_model_ready_df['last_market_date'] = last_market_dates\n",
    "future_model_ready_df.head()"
   ]
  },
  {
   "cell_type": "markdown",
   "metadata": {
    "id": "UvpRh_ATycPn"
   },
   "source": [
    "**Building the model**"
   ]
  },
  {
   "cell_type": "code",
   "execution_count": 10,
   "metadata": {
    "id": "LfoHdewDybkv"
   },
   "outputs": [],
   "source": [
    "features=[ f for f in stock_model_ready_df.columns if f not in ['outcome']]\n",
    "features_=[f  for f in stock_model_ready_df.columns if f not in ['date', 'last_market_date', 'symbol','outcome']]\n",
    "label = 'outcome'"
   ]
  },
  {
   "cell_type": "code",
   "execution_count": 11,
   "metadata": {
    "colab": {
     "base_uri": "https://localhost:8080/"
    },
    "id": "JUXykV-QzBF0",
    "outputId": "92f0b129-560e-4318-d839-3d69e75e08be"
   },
   "outputs": [
    {
     "ename": "ModuleNotFoundError",
     "evalue": "No module named 'tensorflow'",
     "output_type": "error",
     "traceback": [
      "\u001b[1;31m---------------------------------------------------------------------------\u001b[0m",
      "\u001b[1;31mModuleNotFoundError\u001b[0m                       Traceback (most recent call last)",
      "\u001b[1;32m<ipython-input-11-b8b90f485a43>\u001b[0m in \u001b[0;36m<module>\u001b[1;34m\u001b[0m\n\u001b[1;32m----> 1\u001b[1;33m \u001b[1;32mimport\u001b[0m \u001b[0mtensorflow\u001b[0m \u001b[1;32mas\u001b[0m \u001b[0mtf\u001b[0m\u001b[1;33m\u001b[0m\u001b[1;33m\u001b[0m\u001b[0m\n\u001b[0m\u001b[0;32m      2\u001b[0m \u001b[1;32mfrom\u001b[0m \u001b[0mtensorflow\u001b[0m\u001b[1;33m.\u001b[0m\u001b[0mkeras\u001b[0m\u001b[1;33m.\u001b[0m\u001b[0mmodels\u001b[0m \u001b[1;32mimport\u001b[0m \u001b[0mSequential\u001b[0m\u001b[1;33m\u001b[0m\u001b[1;33m\u001b[0m\u001b[0m\n\u001b[0;32m      3\u001b[0m \u001b[1;32mfrom\u001b[0m \u001b[0mtensorflow\u001b[0m\u001b[1;33m.\u001b[0m\u001b[0mkeras\u001b[0m\u001b[1;33m.\u001b[0m\u001b[0mlayers\u001b[0m \u001b[1;32mimport\u001b[0m \u001b[0mDense\u001b[0m\u001b[1;33m\u001b[0m\u001b[1;33m\u001b[0m\u001b[0m\n\u001b[0;32m      4\u001b[0m \u001b[1;32mfrom\u001b[0m \u001b[0mtensorflow\u001b[0m\u001b[1;33m.\u001b[0m\u001b[0mkeras\u001b[0m\u001b[1;33m.\u001b[0m\u001b[0mmodels\u001b[0m \u001b[1;32mimport\u001b[0m \u001b[0mmodel_from_json\u001b[0m\u001b[1;33m\u001b[0m\u001b[1;33m\u001b[0m\u001b[0m\n\u001b[0;32m      5\u001b[0m \u001b[1;32mfrom\u001b[0m \u001b[0msklearn\u001b[0m\u001b[1;33m.\u001b[0m\u001b[0mmodel_selection\u001b[0m \u001b[1;32mimport\u001b[0m \u001b[0mtrain_test_split\u001b[0m\u001b[1;33m\u001b[0m\u001b[1;33m\u001b[0m\u001b[0m\n",
      "\u001b[1;31mModuleNotFoundError\u001b[0m: No module named 'tensorflow'"
     ]
    }
   ],
   "source": [
    "import tensorflow as tf\n",
    "from tensorflow.keras.models import Sequential\n",
    "from tensorflow.keras.layers import Dense\n",
    "from tensorflow.keras.models import model_from_json\n",
    "from sklearn.model_selection import train_test_split\n",
    "\n",
    "# fix random seed for reproducibility\n",
    "np.random.seed(7)\n",
    "\n",
    "x_train, x_test, y_train, y_test = train_test_split(stock_model_ready_df[features], stock_model_ready_df[label], test_size=0.33, random_state=42 )\n",
    "model= Sequential()\n",
    "model.add(Dense(5,activation='relu',input_dim=5))\n",
    "model.add(Dense(5,activation='relu'))\n",
    "model.add(Dense(1, kernel_initializer='normal'))\n",
    "model.compile(loss='mean_squared_error', optimizer='adam')\n",
    "\n",
    "model.fit(x_train[features_],y_train, epochs=3, batch_size=5, verbose=1)\n",
    "\n"
   ]
  },
  {
   "cell_type": "code",
   "execution_count": null,
   "metadata": {
    "colab": {
     "base_uri": "https://localhost:8080/"
    },
    "id": "5UkfdsU__i-k",
    "outputId": "2aa7890d-7a59-41f0-e40c-c1a5fd2133ec"
   },
   "outputs": [],
   "source": [
    "scores = model.evaluate(x_test[features_], y_test, verbose=0)\n",
    "print(\"%s: %.2f%%\" % (model.metrics_names[0], scores*100))\n"
   ]
  },
  {
   "cell_type": "code",
   "execution_count": null,
   "metadata": {
    "colab": {
     "base_uri": "https://localhost:8080/"
    },
    "id": "PtS31iNRB5QB",
    "outputId": "ebd40cc1-69eb-4fbb-a5d4-2df4d19eb9cb"
   },
   "outputs": [],
   "source": [
    "# serialize model to JSON\n",
    "model_json = model.to_json()\n",
    "with open(\"model.json\", \"w\") as json_file:\n",
    "    json_file.write(model_json)\n",
    "# serialize weights to HDF5\n",
    "model.save_weights(\"model.h5\")\n",
    "print(\"Saved model to disk\")"
   ]
  },
  {
   "cell_type": "code",
   "execution_count": null,
   "metadata": {
    "colab": {
     "base_uri": "https://localhost:8080/"
    },
    "id": "F5Lx1YYjCA9-",
    "outputId": "261e028c-9ffe-4971-cfc1-bb226e7a8265"
   },
   "outputs": [],
   "source": [
    "# deserialize the model\n",
    "# load json and create model\n",
    "json_file = open('model.json', 'r')\n",
    "loaded_model_json = json_file.read()\n",
    "json_file.close()\n",
    "loaded_model = model_from_json(loaded_model_json)\n",
    "# load weights into new model\n",
    "loaded_model.load_weights(\"model.h5\")\n",
    "print(\"Loaded model from disk\")"
   ]
  },
  {
   "cell_type": "code",
   "execution_count": null,
   "metadata": {
    "colab": {
     "base_uri": "https://localhost:8080/"
    },
    "id": "BMAdA330COe3",
    "outputId": "1a1790cb-29fc-48e4-86b7-40352c8218da"
   },
   "outputs": [],
   "source": [
    "# evaluate loaded model on test data\n",
    "loaded_model.compile(loss='mean_squared_error', optimizer='adam')\n",
    "score = loaded_model.evaluate(x_test[features_], y_test, verbose=0)\n",
    "print(\"%s: %.2f%%\" % (loaded_model.metrics_names[0], score*100))"
   ]
  },
  {
   "cell_type": "code",
   "execution_count": null,
   "metadata": {
    "colab": {
     "base_uri": "https://localhost:8080/"
    },
    "id": "UJ7Vk5SjCY38",
    "outputId": "2509505e-38f4-415b-8e1c-5c8c78abc0a0"
   },
   "outputs": [],
   "source": [
    "# predictions have to be restored for processing\n",
    "x_evaluate_tmp = stock_model_ready_df.copy()\n",
    "x_evaluate_tmp = x_evaluate_tmp[x_evaluate_tmp['symbol'] == 'AAPL']\n",
    "\n",
    "predictions = loaded_model.predict(x_evaluate_tmp[features_])\n",
    "predictions"
   ]
  },
  {
   "cell_type": "code",
   "execution_count": null,
   "metadata": {
    "colab": {
     "base_uri": "https://localhost:8080/"
    },
    "id": "Lhv_Bf9IEw9N",
    "outputId": "5eb6c9c6-cadd-4b74-fe34-bf352847f30f"
   },
   "outputs": [],
   "source": [
    "actuals = x_evaluate_tmp['outcome']\n",
    "forecasts =  [ item for elem in predictions.tolist() for item in elem] \n",
    "print(actuals[0:10])\n",
    "\n",
    "from sklearn.metrics import mean_squared_error\n",
    "print('RMSE: (+/- off)', np.sqrt(mean_squared_error(list(actuals), forecasts)))"
   ]
  },
  {
   "cell_type": "code",
   "execution_count": null,
   "metadata": {
    "colab": {
     "base_uri": "https://localhost:8080/",
     "height": 512
    },
    "id": "RFzfloZ1JVY7",
    "outputId": "211c4e62-68bb-41fd-d597-f766568da350"
   },
   "outputs": [],
   "source": [
    "x_done = x_evaluate_tmp.copy()\n",
    "x_done['forecast'] = forecasts\n",
    "\n",
    "x_done = x_done.sort_values('date')\n",
    "x_done = x_done.tail(50)\n",
    "x_done['date'] = pd.to_datetime(x_done['date'])\n",
    "\n",
    "fig, ax = plt.subplots(figsize=(15,8))\n",
    "plt.suptitle('AAPL Test Forecast: ' + str(np.min(x_done['date']))[:10] + ' to '+ str(np.max(x_done['date']))[:10])\n",
    "plt.plot(x_done['date'] , x_done['outcome'],  color='black', label='Actual')\n",
    "plt.plot(x_done['date'] , x_done['forecast'],  color='blue', label='Forecast')\n",
    "plt.legend()\n",
    "plt.grid()\n",
    "plt.xticks(rotation='vertical')\n",
    "ax.xaxis_date()      \n",
    "fig.autofmt_xdate()\n",
    "plt.show()"
   ]
  },
  {
   "cell_type": "markdown",
   "metadata": {
    "id": "sC_JJrlKKWsl"
   },
   "source": [
    "Forecast on live data (basically the last x days where we don't have an outcome...)\n"
   ]
  },
  {
   "cell_type": "code",
   "execution_count": null,
   "metadata": {
    "colab": {
     "base_uri": "https://localhost:8080/",
     "height": 559
    },
    "id": "IwyappWuKN9w",
    "outputId": "581f07a7-2824-479e-e728-c6808aaf3e0b"
   },
   "outputs": [],
   "source": [
    "# forecast on live data (basically the last x days where we don't have an outcome...)\n",
    "predictions = loaded_model.predict(x_evaluate_tmp[features_])\n",
    "forecasts =  [ item for elem in predictions.tolist() for item in elem] \n",
    "\n",
    "future_df_tmp = x_evaluate_tmp.copy()\n",
    "future_df_tmp['forcast'] = np.exp(forecasts)\n",
    "future_df_tmp['date'] = pd.to_datetime(future_df_tmp['date'])  \n",
    "\n",
    "print(np.max(future_df_tmp['date']))\n",
    "future_df_tmp = future_df_tmp.tail(10)\n",
    "\n",
    "future_df_tmp = future_df_tmp.sort_values('date')\n",
    "\n",
    "fig, ax = plt.subplots(figsize=(16, 8))\n",
    "plt.suptitle('AAPL')\n",
    "plt.plot(future_df_tmp['date'], future_df_tmp['forcast'], color='blue', label='Forecast')\n",
    "plt.legend()\n",
    "plt.grid()\n",
    "plt.xticks(rotation='vertical')\n",
    "plt.show()"
   ]
  },
  {
   "cell_type": "code",
   "execution_count": null,
   "metadata": {
    "colab": {
     "base_uri": "https://localhost:8080/",
     "height": 654
    },
    "id": "qfXPBC0MMTFl",
    "outputId": "61dd055f-be91-49a4-94b1-615249b1f6bf"
   },
   "outputs": [],
   "source": [
    "actuals = list(future_df_tmp.tail(1).values[0])[0:predict_out_period-1]\n",
    "# transform log price to price of past data\n",
    "actuals = list(np.exp(actuals))\n",
    "days_before = future_df_tmp['last_market_date'].values[-1]\n",
    "days_before_list = []\n",
    "for d in range(rolling_period-1):\n",
    "    days_before_list.append(str(np.busday_offset(np.datetime64(days_before,'D'),-d, roll='backward')))\n",
    "     \n",
    "plt.plot(days_before_list, actuals, color='green', linewidth=4)\n",
    " \n",
    "for d in range(1, predict_out_period+1):\n",
    "    days_before_list.append(str(np.busday_offset(np.datetime64(days_before,'D'),d, roll='forward')))\n",
    "    actuals.append(future_df_tmp['forcast'].values[-1])\n",
    "     \n",
    "\n",
    "plt.suptitle('Forcast for ' + str(future_df_tmp['date'].values[-1])[0:10] + ': $' + str(np.round(future_df_tmp['forcast'].values[-1],2)))\n",
    "plt.plot(days_before_list, actuals, color='blue', linestyle='dashed')\n",
    "plt.grid()\n",
    "plt.xticks(days_before_list, days_before_list, rotation='vertical')"
   ]
  },
  {
   "cell_type": "markdown",
   "metadata": {
    "id": "j1OlVglyOT85"
   },
   "source": [
    "**Creating our local Flask web application**"
   ]
  },
  {
   "cell_type": "code",
   "execution_count": null,
   "metadata": {
    "id": "4jMLepowOPUV"
   },
   "outputs": [],
   "source": [
    "stock_market_live_data = []\n",
    "for stock in stock_symbols:\n",
    "    stock_data = stocks_df[stocks_df['Name']==stock].copy()\n",
    "    # get only the last rolling_period \n",
    "    stock_data = stock_data.tail(rolling_period)\n",
    "\n",
    "    no_outcome_id = len(stock_data)-predict_out_period\n",
    "    future_data = []\n",
    "    future_dates = []\n",
    "    last_market_dates = []\n",
    "    # shift everything out into 'no outcome' zone\n",
    "    for per in range(no_outcome_id+1, len(stock_data)+1): \n",
    "        X_tmp = []\n",
    "        y_tmp = 0\n",
    "        for rollper in range(per-rolling_period,per):\n",
    "            X_tmp +=[ np.log(stock_data['close'].values[rollper])]\n",
    "\n",
    "        future_data.append(np.array(X_tmp))\n",
    "        last_market_dates.append(stock_data['date'].values[rollper])\n",
    "        # create a business day offset for future dates to avoid weekends and holidays \n",
    "        future_date = np.busday_offset(np.datetime64(stock_data['date'].values[rollper],'D'),predict_out_period, roll='forward')\n",
    "    \n",
    "    stock_market_live_data.append(X_tmp + [-1] + [str(future_date)] + [stock_data['date'].values[rollper]] + [stock])\n",
    "   \n",
    "stock_market_live_data = pd.DataFrame(stock_market_live_data)\n",
    "stock_market_historical_data = pd.read_csv('stock_market_historical_data.csv')\n",
    "stock_market_live_data.columns = list(stock_market_historical_data)\n",
    "# write a copy to file to use in our web application\n",
    "stock_market_live_data.to_csv('stock_market_live_data.csv', index=None)"
   ]
  },
  {
   "cell_type": "code",
   "execution_count": null,
   "metadata": {
    "colab": {
     "base_uri": "https://localhost:8080/",
     "height": 202
    },
    "id": "qEn_qCxQQQ47",
    "outputId": "1d3a0ba1-82ba-49ad-d2fe-b40302a24804"
   },
   "outputs": [],
   "source": [
    "stock_market_live_data.head()"
   ]
  },
  {
   "cell_type": "code",
   "execution_count": null,
   "metadata": {
    "colab": {
     "base_uri": "https://localhost:8080/",
     "height": 202
    },
    "id": "ya_xKEHCQV_i",
    "outputId": "a91c5da8-ff67-4749-d707-dffc139a359d"
   },
   "outputs": [],
   "source": [
    "import os\n",
    "\n",
    "ROLLING_PERIOD = 5\n",
    "PREDICT_OUT_PERIOD = 5\n",
    "BASE_DIR = ''\n",
    "FEATURES = [str(id) for id in range(0,ROLLING_PERIOD)]\n",
    "\n",
    "stock_market_historical_data = None\n",
    "stock_market_live_data = None\n",
    "predict_fn = None\n",
    "saved_regression_model_path ='model.json'\n",
    "saved_model_weights_path = \"model.h5\"\n",
    "\n",
    "\n",
    "\n",
    "def prepare_data():\n",
    "    global stock_market_historical_data, stock_market_live_data, predict_fn\n",
    "    \n",
    "    # deserialize the model\n",
    "    json_file = open(saved_regression_model_path, 'r')\n",
    "    loaded_model_json = json_file.read()\n",
    "    json_file.close()\n",
    "    predict_fn = model_from_json(loaded_model_json)\n",
    "    # load weights into new model\n",
    "    predict_fn.load_weights(saved_model_weights_path)\n",
    "      \n",
    "    stock_market_historical_data = pd.read_csv(os.path.join(BASE_DIR, 'stock_market_historical_data.csv'))\n",
    "    stock_market_live_data = pd.read_csv(os.path.join(BASE_DIR, 'stock_market_live_data.csv'))\n",
    "\n",
    "    \n",
    "prepare_data()\n",
    "stock_market_live_data.head()"
   ]
  },
  {
   "cell_type": "code",
   "execution_count": null,
   "metadata": {
    "colab": {
     "base_uri": "https://localhost:8080/"
    },
    "id": "q1BP-AQJRkpA",
    "outputId": "8abcaf4f-0dff-429a-b3dd-742a640a398e"
   },
   "outputs": [],
   "source": [
    "def get_stock_prediction(symbol):\n",
    " \n",
    "    temp_df = stock_market_live_data[stock_market_live_data['symbol']==symbol]\n",
    "    print(temp_df)\n",
    "    # forecast on live data (basically the last x days where we don't have an outcome...)\n",
    "    predictions = predict_fn.predict(temp_df[features_])\n",
    "    forecasts =  [ item for elem in predictions.tolist() for item in elem] \n",
    " \n",
    "    return(forecasts)\n",
    " \n",
    "\n",
    "# run a prediction test\n",
    "predictions = get_stock_prediction('DUK')\n",
    "np.exp(predictions)"
   ]
  },
  {
   "cell_type": "code",
   "execution_count": null,
   "metadata": {
    "colab": {
     "base_uri": "https://localhost:8080/",
     "height": 349
    },
    "id": "PrqQS64IRzfz",
    "outputId": "f02ccd26-73aa-484e-c276-a1be36a353f1"
   },
   "outputs": [],
   "source": [
    "# create a plot to display\n",
    "def get_plot_prediction(symbol):\n",
    "    \n",
    "    predictions = get_stock_prediction(symbol)\n",
    "    \n",
    "    if (len(predictions) > 0):\n",
    "        temp_df = stock_market_live_data[stock_market_live_data['symbol']==symbol]\n",
    "\n",
    "        actuals = list(temp_df[FEATURES].values[0])\n",
    "        # transform log price to price of past data\n",
    "        actuals = list(np.exp(actuals))\n",
    "        \n",
    "        days_before = temp_df['last_market_date'].values[-1]\n",
    "        days_before_list = []\n",
    "        for d in range(ROLLING_PERIOD):\n",
    "            days_before_list.append(str(np.busday_offset(np.datetime64(days_before,'D'),-d, roll='backward')))\n",
    "        \n",
    "        fig, ax = plt.subplots(figsize=(8,3))\n",
    "        plt.plot(days_before_list, actuals, color='green', linewidth=4)\n",
    "\n",
    "        for d in range(1, PREDICT_OUT_PERIOD+1):\n",
    "            days_before_list.append(str(np.busday_offset(np.datetime64(days_before,'D'),d, roll='forward')))\n",
    "            actuals.append(np.exp(predictions[-1]))\n",
    "\n",
    "        plt.suptitle('Forecast for ' + str(temp_df['date'].values[-1])[0:10] + ': $' + \n",
    "                     str(np.round(np.exp(predictions[-1]),2)))\n",
    "        \n",
    "        plt.plot(days_before_list, actuals, color='blue', linestyle='dashed')\n",
    "        plt.grid()\n",
    "        plt.xticks(days_before_list, days_before_list, rotation='vertical')\n",
    "        plt.show()\n",
    "\n",
    "get_plot_prediction('DUK') "
   ]
  },
  {
   "cell_type": "code",
   "execution_count": null,
   "metadata": {
    "colab": {
     "base_uri": "https://localhost:8080/",
     "height": 415
    },
    "id": "JLX9TtwHR0o9",
    "outputId": "c478306c-8eba-4b86-e98b-9633aec60cad"
   },
   "outputs": [],
   "source": [
    "# load nasdaq corollary material\n",
    "stock_company_info_amex = None\n",
    "stock_company_info_nasdaq = None\n",
    "stock_company_info_nyse = None\n",
    "\n",
    "def load_fundamental_company_info():\n",
    "    global stock_company_info_amex, stock_company_info_nasdaq, stock_company_info_nyse\n",
    "    import pandas as pd\n",
    "    stock_company_info_amex = pd.read_csv('stock_company_info_amex.csv')\n",
    "    \n",
    "    stock_company_info_nasdaq = pd.read_csv('stock_company_info_nasdaq.csv')\n",
    "    \n",
    "    stock_company_info_nyse = pd.read_csv('stock_company_info_nyse.csv')\n",
    "    \n",
    "load_fundamental_company_info()"
   ]
  },
  {
   "cell_type": "code",
   "execution_count": null,
   "metadata": {
    "id": "JHHCOHEMWKmT"
   },
   "outputs": [],
   "source": [
    "def get_fundamental_information(symbol):\n",
    "    CompanyName = \"No company name\"\n",
    "    Sector = \"No sector\"\n",
    "    Industry = \"No industry\"\n",
    "    MarketCap = \"No market cap\"\n",
    "    Exchange = 'No exchange'\n",
    "    \n",
    "    if (symbol in list(stock_company_info_nasdaq['Symbol'])):\n",
    "        data_row = stock_company_info_nasdaq[stock_company_info_nasdaq['Symbol'] == symbol]  \n",
    "        CompanyName = data_row['Name'].values[0]\n",
    "        Sector = data_row['Sector'].values[0]\n",
    "        Industry = data_row['Industry'].values[0]\n",
    "        MarketCap = data_row['MarketCap'].values[0]\n",
    "        Exchange = 'NASDAQ'\n",
    "        \n",
    "    elif (symbol in list(stock_company_info_amex['Symbol'])):\n",
    "        data_row = stock_company_info_amex[stock_company_info_amex['Symbol'] == symbol]  \n",
    "        CompanyName = data_row['Name'].values[0]\n",
    "        Sector = data_row['Sector'].values[0]\n",
    "        Industry = data_row['Industry'].values[0]\n",
    "        MarketCap = data_row['MarketCap'].values[0]\n",
    "        Exchange = 'AMEX'\n",
    " \n",
    "    elif (symbol in list(stock_company_info_nyse['Symbol'])):\n",
    "        data_row = stock_company_info_nyse[stock_company_info_nyse['Symbol'] == symbol]  \n",
    "        CompanyName = data_row['Name'].values[0]\n",
    "        Sector = data_row['Sector'].values[0]\n",
    "        Industry = data_row['Industry'].values[0]\n",
    "        MarketCap = data_row['MarketCap'].values[0]\n",
    "        Exchange = 'NYSE'\n",
    " \n",
    "    return (CompanyName, Sector, Industry, MarketCap, Exchange)\n",
    "\n",
    "fundamentals = get_fundamental_information('AAPL')\n",
    "fundamentals"
   ]
  },
  {
   "cell_type": "code",
   "execution_count": null,
   "metadata": {
    "colab": {
     "base_uri": "https://localhost:8080/"
    },
    "id": "0h6qj8YdWcCK",
    "outputId": "1180018a-0d27-4f15-ff2c-813a020926a6"
   },
   "outputs": [],
   "source": [
    "pip install wikipedia"
   ]
  },
  {
   "cell_type": "code",
   "execution_count": null,
   "metadata": {
    "colab": {
     "base_uri": "https://localhost:8080/",
     "height": 322
    },
    "id": "j01CPdOpWZL5",
    "outputId": "8a164fb5-d3c1-4768-9a56-570f966e26e0"
   },
   "outputs": [],
   "source": [
    "\n",
    "def get_wikipedia_intro(symbol):\n",
    "    import wikipedia\n",
    "    company_name = get_fundamental_information(symbol)[0]\n",
    "    description = wikipedia.page(company_name).content\n",
    "    return(description.split('\\n')[0])\n",
    "\n",
    "get_wikipedia_intro('DUK')"
   ]
  },
  {
   "cell_type": "code",
   "execution_count": null,
   "metadata": {
    "id": "isaNw8zwSx4p"
   },
   "outputs": [],
   "source": []
  }
 ],
 "metadata": {
  "accelerator": "GPU",
  "colab": {
   "collapsed_sections": [],
   "name": "Untitled12.ipynb",
   "provenance": []
  },
  "kernelspec": {
   "display_name": "Python 3",
   "language": "python",
   "name": "python3"
  },
  "language_info": {
   "codemirror_mode": {
    "name": "ipython",
    "version": 3
   },
   "file_extension": ".py",
   "mimetype": "text/x-python",
   "name": "python",
   "nbconvert_exporter": "python",
   "pygments_lexer": "ipython3",
   "version": "3.8.5"
  }
 },
 "nbformat": 4,
 "nbformat_minor": 1
}
